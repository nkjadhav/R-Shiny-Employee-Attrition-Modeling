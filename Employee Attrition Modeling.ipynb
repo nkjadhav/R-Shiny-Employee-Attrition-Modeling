{
 "cells": [
  {
   "cell_type": "markdown",
   "metadata": {
    "toc": true
   },
   "source": [
    "<h1>Table of Contents<span class=\"tocSkip\"></span></h1>\n",
    "<div class=\"toc\"><ul class=\"toc-item\"><li><span><a href=\"#Introduction-to-Attrition-Analysis\" data-toc-modified-id=\"Introduction-to-Attrition-Analysis-1\"><span class=\"toc-item-num\">1&nbsp;&nbsp;</span>Introduction to Attrition Analysis</a></span><ul class=\"toc-item\"><li><span><a href=\"#The-Problem\" data-toc-modified-id=\"The-Problem-1.1\"><span class=\"toc-item-num\">1.1&nbsp;&nbsp;</span>The Problem</a></span></li><li><span><a href=\"#Exploratory-Data-Analysis\" data-toc-modified-id=\"Exploratory-Data-Analysis-1.2\"><span class=\"toc-item-num\">1.2&nbsp;&nbsp;</span>Exploratory Data Analysis</a></span></li></ul></li><li><span><a href=\"#Data-Preprocessing\" data-toc-modified-id=\"Data-Preprocessing-2\"><span class=\"toc-item-num\">2&nbsp;&nbsp;</span>Data Preprocessing</a></span><ul class=\"toc-item\"><li><span><a href=\"#Data-Partitioning\" data-toc-modified-id=\"Data-Partitioning-2.1\"><span class=\"toc-item-num\">2.1&nbsp;&nbsp;</span>Data Partitioning</a></span></li><li><span><a href=\"#Data-Modeling-with-Machine-Learning\" data-toc-modified-id=\"Data-Modeling-with-Machine-Learning-2.2\"><span class=\"toc-item-num\">2.2&nbsp;&nbsp;</span>Data Modeling with Machine Learning</a></span><ul class=\"toc-item\"><li><span><a href=\"#XGBoost-model\" data-toc-modified-id=\"XGBoost-model-2.2.1\"><span class=\"toc-item-num\">2.2.1&nbsp;&nbsp;</span>XGBoost model</a></span><ul class=\"toc-item\"><li><span><a href=\"#Feature-Importance\" data-toc-modified-id=\"Feature-Importance-2.2.1.1\"><span class=\"toc-item-num\">2.2.1.1&nbsp;&nbsp;</span>Feature Importance</a></span></li></ul></li><li><span><a href=\"#SVM-model\" data-toc-modified-id=\"SVM-model-2.2.2\"><span class=\"toc-item-num\">2.2.2&nbsp;&nbsp;</span>SVM model</a></span></li><li><span><a href=\"#Logistic-regression-model\" data-toc-modified-id=\"Logistic-regression-model-2.2.3\"><span class=\"toc-item-num\">2.2.3&nbsp;&nbsp;</span>Logistic regression model</a></span></li></ul></li></ul></li><li><span><a href=\"#R-Shiny-Employee-Attrition-Modeling-Application\" data-toc-modified-id=\"R-Shiny-Employee-Attrition-Modeling-Application-3\"><span class=\"toc-item-num\">3&nbsp;&nbsp;</span>R-Shiny Employee Attrition Modeling Application</a></span><ul class=\"toc-item\"><li><span><a href=\"#Fine-Tuning-the-Results\" data-toc-modified-id=\"Fine-Tuning-the-Results-3.1\"><span class=\"toc-item-num\">3.1&nbsp;&nbsp;</span>Fine-Tuning the Results</a></span><ul class=\"toc-item\"><li><span><a href=\"#ROC-Curve\" data-toc-modified-id=\"ROC-Curve-3.1.1\"><span class=\"toc-item-num\">3.1.1&nbsp;&nbsp;</span>ROC Curve</a></span></li><li><span><a href=\"#Confusion-Matrix\" data-toc-modified-id=\"Confusion-Matrix-3.1.2\"><span class=\"toc-item-num\">3.1.2&nbsp;&nbsp;</span>Confusion Matrix</a></span></li><li><span><a href=\"#Precision-and-Recall\" data-toc-modified-id=\"Precision-and-Recall-3.1.3\"><span class=\"toc-item-num\">3.1.3&nbsp;&nbsp;</span>Precision and Recall</a></span></li></ul></li></ul></li></ul></div>"
   ]
  },
  {
   "cell_type": "markdown",
   "metadata": {},
   "source": [
    "## Introduction to Attrition Analysis\n",
    "- It is often difficult for an HR department to identify which employees are most likely to leave the company and for what reasons; this project aims to give a way to leverage machine learning to better understand employees.\n",
    "- In this project I have created R Shiny application for this project, all of the analysis are visualized in the Shiny application."
   ]
  },
  {
   "cell_type": "markdown",
   "metadata": {},
   "source": [
    "### The Problem\n",
    "- Employee attrition is the rate at which employees leave a company.\n",
    "- The goal of this analysis is to model employee attrition and determine the most dominant contributing factors that govern this turnover.\n",
    "- Through this kind of analysis, we can understand how many employees are likely to leave, while also determining which employees are at the highest risk and for what reasons."
   ]
  },
  {
   "cell_type": "markdown",
   "metadata": {},
   "source": [
    "### Exploratory Data Analysis\n",
    "- The dataset used in this analysis is provided from IBM HR to study about employee attrition, which can be found at below link.\n",
    "https://www.kaggle.com/pavansubhasht/ibm-hr-analytics-attrition-dataset\n",
    "\n",
    "- In terms of machine learning analysis, the data needs to be initially cleaned.\n",
    "- This will allow for the maximum accuracy of the final model when we start processing."
   ]
  },
  {
   "cell_type": "code",
   "execution_count": 1,
   "metadata": {},
   "outputs": [],
   "source": [
    "# Importing data\n",
    "d <- read.csv(\"WA_Fn-UseC_-HR-Employee-Attrition.csv\")"
   ]
  },
  {
   "cell_type": "code",
   "execution_count": 2,
   "metadata": {},
   "outputs": [
    {
     "name": "stderr",
     "output_type": "stream",
     "text": [
      "Loading required package: lattice\n",
      "Loading required package: ggplot2\n"
     ]
    },
    {
     "data": {
      "text/html": [
       "<table>\n",
       "<thead><tr><th scope=col>EmployeeCount</th><th scope=col>Over18</th><th scope=col>StandardHours</th></tr></thead>\n",
       "<tbody>\n",
       "\t<tr><td>1 </td><td>Y </td><td>80</td></tr>\n",
       "\t<tr><td>1 </td><td>Y </td><td>80</td></tr>\n",
       "\t<tr><td>1 </td><td>Y </td><td>80</td></tr>\n",
       "\t<tr><td>1 </td><td>Y </td><td>80</td></tr>\n",
       "\t<tr><td>1 </td><td>Y </td><td>80</td></tr>\n",
       "\t<tr><td>1 </td><td>Y </td><td>80</td></tr>\n",
       "</tbody>\n",
       "</table>\n"
      ],
      "text/latex": [
       "\\begin{tabular}{r|lll}\n",
       " EmployeeCount & Over18 & StandardHours\\\\\n",
       "\\hline\n",
       "\t 1  & Y  & 80\\\\\n",
       "\t 1  & Y  & 80\\\\\n",
       "\t 1  & Y  & 80\\\\\n",
       "\t 1  & Y  & 80\\\\\n",
       "\t 1  & Y  & 80\\\\\n",
       "\t 1  & Y  & 80\\\\\n",
       "\\end{tabular}\n"
      ],
      "text/markdown": [
       "\n",
       "EmployeeCount | Over18 | StandardHours | \n",
       "|---|---|---|---|---|---|\n",
       "| 1  | Y  | 80 | \n",
       "| 1  | Y  | 80 | \n",
       "| 1  | Y  | 80 | \n",
       "| 1  | Y  | 80 | \n",
       "| 1  | Y  | 80 | \n",
       "| 1  | Y  | 80 | \n",
       "\n",
       "\n"
      ],
      "text/plain": [
       "  EmployeeCount Over18 StandardHours\n",
       "1 1             Y      80           \n",
       "2 1             Y      80           \n",
       "3 1             Y      80           \n",
       "4 1             Y      80           \n",
       "5 1             Y      80           \n",
       "6 1             Y      80           "
      ]
     },
     "metadata": {},
     "output_type": "display_data"
    }
   ],
   "source": [
    "# Dropping the the columns with constant values or no variability.\n",
    "library(caret)\n",
    "head(d[nearZeroVar(d)])"
   ]
  },
  {
   "cell_type": "markdown",
   "metadata": {},
   "source": [
    "- Drop Over18 as there is no variability, all are Y.\n",
    "- Drop EmployeeCount as there is no variability, all are 1.\n",
    "- Drop StandardHours as there is no variability, all are 80.\n",
    "- Also, drop Employee Number as it is just an identifier."
   ]
  },
  {
   "cell_type": "code",
   "execution_count": 3,
   "metadata": {},
   "outputs": [],
   "source": [
    "d$Over18 <- NULL\n",
    "d$EmployeeCount <- NULL\n",
    "d$StandardHours <- NULL\n",
    "d$EmployeeNumber <- NULL"
   ]
  },
  {
   "cell_type": "code",
   "execution_count": 4,
   "metadata": {},
   "outputs": [
    {
     "data": {
      "text/html": [
       "<dl class=dl-horizontal>\n",
       "\t<dt>ï..Age</dt>\n",
       "\t\t<dd>FALSE</dd>\n",
       "\t<dt>Attrition</dt>\n",
       "\t\t<dd>TRUE</dd>\n",
       "\t<dt>BusinessTravel</dt>\n",
       "\t\t<dd>TRUE</dd>\n",
       "\t<dt>DailyRate</dt>\n",
       "\t\t<dd>FALSE</dd>\n",
       "\t<dt>Department</dt>\n",
       "\t\t<dd>TRUE</dd>\n",
       "\t<dt>DistanceFromHome</dt>\n",
       "\t\t<dd>FALSE</dd>\n",
       "\t<dt>Education</dt>\n",
       "\t\t<dd>FALSE</dd>\n",
       "\t<dt>EducationField</dt>\n",
       "\t\t<dd>TRUE</dd>\n",
       "\t<dt>EnvironmentSatisfaction</dt>\n",
       "\t\t<dd>FALSE</dd>\n",
       "\t<dt>Gender</dt>\n",
       "\t\t<dd>TRUE</dd>\n",
       "\t<dt>HourlyRate</dt>\n",
       "\t\t<dd>FALSE</dd>\n",
       "\t<dt>JobInvolvement</dt>\n",
       "\t\t<dd>FALSE</dd>\n",
       "\t<dt>JobLevel</dt>\n",
       "\t\t<dd>FALSE</dd>\n",
       "\t<dt>JobRole</dt>\n",
       "\t\t<dd>TRUE</dd>\n",
       "\t<dt>JobSatisfaction</dt>\n",
       "\t\t<dd>FALSE</dd>\n",
       "\t<dt>MaritalStatus</dt>\n",
       "\t\t<dd>TRUE</dd>\n",
       "\t<dt>MonthlyIncome</dt>\n",
       "\t\t<dd>FALSE</dd>\n",
       "\t<dt>MonthlyRate</dt>\n",
       "\t\t<dd>FALSE</dd>\n",
       "\t<dt>NumCompaniesWorked</dt>\n",
       "\t\t<dd>FALSE</dd>\n",
       "\t<dt>OverTime</dt>\n",
       "\t\t<dd>TRUE</dd>\n",
       "\t<dt>PercentSalaryHike</dt>\n",
       "\t\t<dd>FALSE</dd>\n",
       "\t<dt>PerformanceRating</dt>\n",
       "\t\t<dd>FALSE</dd>\n",
       "\t<dt>RelationshipSatisfaction</dt>\n",
       "\t\t<dd>FALSE</dd>\n",
       "\t<dt>StockOptionLevel</dt>\n",
       "\t\t<dd>FALSE</dd>\n",
       "\t<dt>TotalWorkingYears</dt>\n",
       "\t\t<dd>FALSE</dd>\n",
       "\t<dt>TrainingTimesLastYear</dt>\n",
       "\t\t<dd>FALSE</dd>\n",
       "\t<dt>WorkLifeBalance</dt>\n",
       "\t\t<dd>FALSE</dd>\n",
       "\t<dt>YearsAtCompany</dt>\n",
       "\t\t<dd>FALSE</dd>\n",
       "\t<dt>YearsInCurrentRole</dt>\n",
       "\t\t<dd>FALSE</dd>\n",
       "\t<dt>YearsSinceLastPromotion</dt>\n",
       "\t\t<dd>FALSE</dd>\n",
       "\t<dt>YearsWithCurrManager</dt>\n",
       "\t\t<dd>FALSE</dd>\n",
       "</dl>\n"
      ],
      "text/latex": [
       "\\begin{description*}\n",
       "\\item[ï..Age] FALSE\n",
       "\\item[Attrition] TRUE\n",
       "\\item[BusinessTravel] TRUE\n",
       "\\item[DailyRate] FALSE\n",
       "\\item[Department] TRUE\n",
       "\\item[DistanceFromHome] FALSE\n",
       "\\item[Education] FALSE\n",
       "\\item[EducationField] TRUE\n",
       "\\item[EnvironmentSatisfaction] FALSE\n",
       "\\item[Gender] TRUE\n",
       "\\item[HourlyRate] FALSE\n",
       "\\item[JobInvolvement] FALSE\n",
       "\\item[JobLevel] FALSE\n",
       "\\item[JobRole] TRUE\n",
       "\\item[JobSatisfaction] FALSE\n",
       "\\item[MaritalStatus] TRUE\n",
       "\\item[MonthlyIncome] FALSE\n",
       "\\item[MonthlyRate] FALSE\n",
       "\\item[NumCompaniesWorked] FALSE\n",
       "\\item[OverTime] TRUE\n",
       "\\item[PercentSalaryHike] FALSE\n",
       "\\item[PerformanceRating] FALSE\n",
       "\\item[RelationshipSatisfaction] FALSE\n",
       "\\item[StockOptionLevel] FALSE\n",
       "\\item[TotalWorkingYears] FALSE\n",
       "\\item[TrainingTimesLastYear] FALSE\n",
       "\\item[WorkLifeBalance] FALSE\n",
       "\\item[YearsAtCompany] FALSE\n",
       "\\item[YearsInCurrentRole] FALSE\n",
       "\\item[YearsSinceLastPromotion] FALSE\n",
       "\\item[YearsWithCurrManager] FALSE\n",
       "\\end{description*}\n"
      ],
      "text/markdown": [
       "ï..Age\n",
       ":   FALSEAttrition\n",
       ":   TRUEBusinessTravel\n",
       ":   TRUEDailyRate\n",
       ":   FALSEDepartment\n",
       ":   TRUEDistanceFromHome\n",
       ":   FALSEEducation\n",
       ":   FALSEEducationField\n",
       ":   TRUEEnvironmentSatisfaction\n",
       ":   FALSEGender\n",
       ":   TRUEHourlyRate\n",
       ":   FALSEJobInvolvement\n",
       ":   FALSEJobLevel\n",
       ":   FALSEJobRole\n",
       ":   TRUEJobSatisfaction\n",
       ":   FALSEMaritalStatus\n",
       ":   TRUEMonthlyIncome\n",
       ":   FALSEMonthlyRate\n",
       ":   FALSENumCompaniesWorked\n",
       ":   FALSEOverTime\n",
       ":   TRUEPercentSalaryHike\n",
       ":   FALSEPerformanceRating\n",
       ":   FALSERelationshipSatisfaction\n",
       ":   FALSEStockOptionLevel\n",
       ":   FALSETotalWorkingYears\n",
       ":   FALSETrainingTimesLastYear\n",
       ":   FALSEWorkLifeBalance\n",
       ":   FALSEYearsAtCompany\n",
       ":   FALSEYearsInCurrentRole\n",
       ":   FALSEYearsSinceLastPromotion\n",
       ":   FALSEYearsWithCurrManager\n",
       ":   FALSE\n",
       "\n"
      ],
      "text/plain": [
       "                  ï..Age                Attrition           BusinessTravel \n",
       "                   FALSE                     TRUE                     TRUE \n",
       "               DailyRate               Department         DistanceFromHome \n",
       "                   FALSE                     TRUE                    FALSE \n",
       "               Education           EducationField  EnvironmentSatisfaction \n",
       "                   FALSE                     TRUE                    FALSE \n",
       "                  Gender               HourlyRate           JobInvolvement \n",
       "                    TRUE                    FALSE                    FALSE \n",
       "                JobLevel                  JobRole          JobSatisfaction \n",
       "                   FALSE                     TRUE                    FALSE \n",
       "           MaritalStatus            MonthlyIncome              MonthlyRate \n",
       "                    TRUE                    FALSE                    FALSE \n",
       "      NumCompaniesWorked                 OverTime        PercentSalaryHike \n",
       "                   FALSE                     TRUE                    FALSE \n",
       "       PerformanceRating RelationshipSatisfaction         StockOptionLevel \n",
       "                   FALSE                    FALSE                    FALSE \n",
       "       TotalWorkingYears    TrainingTimesLastYear          WorkLifeBalance \n",
       "                   FALSE                    FALSE                    FALSE \n",
       "          YearsAtCompany       YearsInCurrentRole  YearsSinceLastPromotion \n",
       "                   FALSE                    FALSE                    FALSE \n",
       "    YearsWithCurrManager \n",
       "                   FALSE "
      ]
     },
     "metadata": {},
     "output_type": "display_data"
    }
   ],
   "source": [
    "# Next, change all the categorical variables to number as fllows,\n",
    "sapply(d, function(x) is.factor(x))\n",
    "\n",
    "# https://dzone.com/articles/r-filtering-data-frames-column"
   ]
  },
  {
   "cell_type": "code",
   "execution_count": 5,
   "metadata": {},
   "outputs": [],
   "source": [
    "d$Attrition <- as.integer(as.factor(d$Attrition)) - 1 # Subtracting 1 from converted value as Yes = 2 and No = 1\n",
    "d$BusinessTravel <- as.integer(as.factor(d$BusinessTravel))\n",
    "d$Department <- as.integer(as.factor(d$Department))\n",
    "d$EducationField <- as.integer(as.factor(d$EducationField))\n",
    "d$Gender <- as.integer(as.factor(d$Gender))\n",
    "d$JobRole <- as.integer(as.factor(d$JobRole))\n",
    "d$MaritalStatus <- as.integer(as.factor(d$MaritalStatus)) \n",
    "d$OverTime <- as.integer(as.factor(d$OverTime))"
   ]
  },
  {
   "cell_type": "markdown",
   "metadata": {},
   "source": [
    "- The correlation matrix is used to illustrate the relations between every variable. The code is shown as following,"
   ]
  },
  {
   "cell_type": "code",
   "execution_count": 6,
   "metadata": {},
   "outputs": [
    {
     "name": "stderr",
     "output_type": "stream",
     "text": [
      "corrplot 0.84 loaded\n"
     ]
    },
    {
     "data": {
      "image/png": "[encoded data removed]",
      "text/plain": [
       "Plot with title \"\""
      ]
     },
     "metadata": {},
     "output_type": "display_data"
    }
   ],
   "source": [
    "# draw the correlation matrix plot\n",
    "library(corrplot)\n",
    "corrplot(cor(d), method = \"circle\", tl.col = \"#3982B7\", mar = c(2, 0, 0, 0), tl.cex = 0.8)"
   ]
  },
  {
   "cell_type": "markdown",
   "metadata": {},
   "source": [
    "- The above correlation matrix displays the linear correlation between every pair of features in the form of dots of varying colors and sizes.\n",
    "- A larger dot indicates that the correlation between these selected features is stronger, whereas the color denotes the strength of the positive (blue) or negative (red) correlation coefficient.\n",
    "- This application in Shiny App has an additional functionality: by clicking any element in the correlation matrix, a 2D histogram is displayed in order to better observe the correlation between those features."
   ]
  },
  {
   "cell_type": "code",
   "execution_count": 7,
   "metadata": {},
   "outputs": [
    {
     "data": {},
     "metadata": {},
     "output_type": "display_data"
    },
    {
     "data": {
      "image/png": "[encoded data removed]",
      "text/plain": [
       "plot without title"
      ]
     },
     "metadata": {},
     "output_type": "display_data"
    }
   ],
   "source": [
    "library(ggplot2)\n",
    "\n",
    "# construct correlation plot using ggplot2 stat_bin2d\n",
    "ggplot(d, aes(YearsInCurrentRole, YearsWithCurrManager))+ \n",
    "stat_bin2d(bins = c(15, 10))+           #set bin numbers\n",
    "guides(colour = guide_legend(override.aes = list(alpha = 1)),\n",
    "fill = guide_legend(override.aes = list(alpha = 1)))+\n",
    "theme_bw()+theme(axis.text=element_text(size=10),\n",
    "axis.title=element_text(size=10,face=\"bold\"),\n",
    "legend.text=element_text(size=10),legend.title=element_text(size=14),\n",
    "legend.position = \"bottom\")+\n",
    "xlab(\"YearsInCurrentRole\")+ylab(\"YearsWithCurrManager\")"
   ]
  },
  {
   "cell_type": "markdown",
   "metadata": {},
   "source": [
    "- Alternatively, clicking the elements along the leading diagonal will output violin plots of the selected features, bucketed by the true underlying attrition value (1 indicating employees that attrite, and 0 indicated those that remain)."
   ]
  },
  {
   "cell_type": "code",
   "execution_count": 8,
   "metadata": {},
   "outputs": [
    {
     "data": {},
     "metadata": {},
     "output_type": "display_data"
    },
    {
     "data": {
      "image/png": "[encoded data removed]",
      "text/plain": [
       "plot without title"
      ]
     },
     "metadata": {},
     "output_type": "display_data"
    }
   ],
   "source": [
    "# construct violin plot using ggplot2 geom_violin\n",
    "ggplot(d, aes(factor(Attrition), WorkLifeBalance))+   \n",
    "geom_violin(alpha = 0.2, aes(fill = factor(Attrition)))+ \n",
    "#set violin plot\n",
    "theme_bw()+                         #set theme and legend\n",
    "guides(fill=FALSE)+theme(axis.text=element_text(size=10),\n",
    "axis.title=element_text(size=10,face=\"bold\"),\n",
    "legend.text=element_text(size=10),\n",
    "legend.title=element_text(size=14),legend.position = \"bottom\")+\n",
    "xlab(\"Attrition\")   "
   ]
  },
  {
   "cell_type": "markdown",
   "metadata": {},
   "source": [
    "## Data Preprocessing"
   ]
  },
  {
   "cell_type": "code",
   "execution_count": 9,
   "metadata": {},
   "outputs": [],
   "source": [
    "# load packages\n",
    "library(\"xgboost\")\n",
    "library(\"e1071\")\n",
    "library(\"MASS\")\n",
    "library(\"xtable\")"
   ]
  },
  {
   "cell_type": "markdown",
   "metadata": {},
   "source": [
    "### Data Partitioning\n",
    "\n",
    "__The data is partitioned into three sets: training, validation and testing:__\n",
    "\n",
    "- The training set is responsible for initially teaching the model the causal relationship between all information and the attrition probability.\n",
    "- The validation set is then used to estimate how well the model has been trained and fine tune the parameters to develop the best model.\n",
    "- Once those two steps have been completed, The completed model is applied to the testing set in order to get accurate results on how the model would perform on real-world data."
   ]
  },
  {
   "cell_type": "code",
   "execution_count": 10,
   "metadata": {},
   "outputs": [],
   "source": [
    "# Create data for training and test\n",
    "set.seed(0)\n",
    "tr.number<-sample(nrow(d),nrow(d)*2/3)  \n",
    "# we split whole dataset into 2/3 training data and 1/3 testing data\n",
    "train<-d[tr.number,]\n",
    "test<-d[-tr.number,]\n",
    "\n",
    "column_names = names(test)\n",
    "\n",
    "# split dataset\n",
    "train_Y = as.numeric(train$Attrition)\n",
    "train$Attrition<-NULL\n",
    "test_Y = test$Attrition\n",
    "test$Attrition<-NULL\n",
    "\n",
    "# numericize training and testing data\n",
    "train[] <- lapply(train, as.numeric)\n",
    "test[] <- lapply(test, as.numeric)"
   ]
  },
  {
   "cell_type": "markdown",
   "metadata": {},
   "source": [
    "### Data Modeling with Machine Learning\n",
    "\n",
    "- XGBoost is a decision tree based algorithm. Multiple trees are ensembled to improve the predictive power of the model.\n",
    "- SVM is a discriminative classifier that takes labeled training data and constructs a hyperplane to categorize new examples.\n",
    "- Logistic regression is a simple classifier used to estimate the probability of a binary outcome based on several predictors and a logit function."
   ]
  },
  {
   "cell_type": "markdown",
   "metadata": {},
   "source": [
    "#### XGBoost model\n",
    "\n",
    "- The first model we fit is an extreme gradient boosting (XGBoost) model. For more detail, http://xgboost.readthedocs.io/en/latest/parameter.html.\n",
    "\n",
    "- Here, we choose maximum depth of tree as 3, step size shrinkage parameter as 0.3, use logistic regression for binary classification with area under the curve(auc) as an evaluation metric for validation data. These default values we have set can be tuned to optimize for accuracy in a true analysis."
   ]
  },
  {
   "cell_type": "code",
   "execution_count": 11,
   "metadata": {},
   "outputs": [],
   "source": [
    "# Construct xgb.DMatrix object from training matrix\n",
    "dtrain <- xgb.DMatrix(as.matrix(train), label = train_Y)\n",
    "\n",
    "# Create a list of parameters for XGBoost model\n",
    "param <- list(max_depth=3, \n",
    "              silent=1, \n",
    "              eta = 0.3,\n",
    "              objective='binary:logistic',\n",
    "              eval_metric = 'auc')\n",
    "\n",
    "# Training a XGBoost model using training dataset and chosen parameters\n",
    "bst <- xgb.train(param, nrounds = 82, dtrain)\n",
    "\n",
    "# Predicting the results using testing dataset\n",
    "pred.xgb <- predict(bst, as.matrix(test))\n",
    "\n",
    "# Create a table indicating the most important features of XGBoost model\n",
    "importance <- xgb.importance(feature_names = column_names, model = bst)"
   ]
  },
  {
   "cell_type": "markdown",
   "metadata": {},
   "source": [
    "- The XGBoost object, bst, created from training the model is a list that contains basic information for the model training, e.g. the parameters settings, etc. The predict step allows us to make a prediction using the separate test dataset."
   ]
  },
  {
   "cell_type": "code",
   "execution_count": 12,
   "metadata": {},
   "outputs": [
    {
     "data": {
      "text/html": [
       "<ol class=list-inline>\n",
       "\t<li>0.687731742858887</li>\n",
       "\t<li>0.200495287775993</li>\n",
       "\t<li>0.0252273306250572</li>\n",
       "\t<li>0.0231708995997906</li>\n",
       "\t<li>0.980257093906403</li>\n",
       "\t<li>0.0795151889324188</li>\n",
       "</ol>\n"
      ],
      "text/latex": [
       "\\begin{enumerate*}\n",
       "\\item 0.687731742858887\n",
       "\\item 0.200495287775993\n",
       "\\item 0.0252273306250572\n",
       "\\item 0.0231708995997906\n",
       "\\item 0.980257093906403\n",
       "\\item 0.0795151889324188\n",
       "\\end{enumerate*}\n"
      ],
      "text/markdown": [
       "1. 0.687731742858887\n",
       "2. 0.200495287775993\n",
       "3. 0.0252273306250572\n",
       "4. 0.0231708995997906\n",
       "5. 0.980257093906403\n",
       "6. 0.0795151889324188\n",
       "\n",
       "\n"
      ],
      "text/plain": [
       "[1] 0.68773174 0.20049529 0.02522733 0.02317090 0.98025709 0.07951519"
      ]
     },
     "metadata": {},
     "output_type": "display_data"
    },
    {
     "name": "stdout",
     "output_type": "stream",
     "text": [
      "The result shows us the first five predicted probabilities for the test dataset. For example, the first observation’s prediction is 0.6877317 based on our model, that employee will have a chance to attrite by around 69 %"
     ]
    }
   ],
   "source": [
    "#We can show the first 5 predictions here as,\n",
    "\n",
    "head(pred.xgb)\n",
    "cat(\"The result shows us the first five predicted probabilities for the test dataset. For example, the first observation’s prediction is\", {pred.xgb[1]}, \"based on our model, that employee will have a chance to attrite by around\",{ceiling(pred.xgb[1]*100)},\"%\")"
   ]
  },
  {
   "cell_type": "markdown",
   "metadata": {},
   "source": [
    "##### Feature Importance\n",
    "- A great advantage of using XGBoost model is its built-in ability to show us a feature importance table.\n",
    "- The importance metric provides a score indicating how valuable each factor was in the construction of the boosted decision trees.\n",
    "- Higher relative importance indicates a larger impact on the algorithm and final prediction.\n",
    "- To actively improve overall employee retention issues, we can use this to look more closely at the most important features that determine the attrition.\n",
    "- In the figure below, we visualize the top 10 important features in histogram using metric."
   ]
  },
  {
   "cell_type": "code",
   "execution_count": 13,
   "metadata": {},
   "outputs": [
    {
     "data": {
      "image/png": "[encoded data removed]",
      "text/plain": [
       "plot without title"
      ]
     },
     "metadata": {},
     "output_type": "display_data"
    }
   ],
   "source": [
    "xgb.plot.importance(importance_matrix = importance, top_n = 10)"
   ]
  },
  {
   "cell_type": "markdown",
   "metadata": {},
   "source": [
    "#### SVM model\n",
    "- The second model we fit is a support vector machine(SVM) model. Basically, a SVM constructs a hyperplane or a set of hyperplanes that have the largest distance to the nearest training data points of other classes.\n",
    "\n",
    "- We choose a radial kernel with proper gamma and cost values here to optimize the performance of SVM. Again, these should be tuned in a full analysis."
   ]
  },
  {
   "cell_type": "code",
   "execution_count": 14,
   "metadata": {},
   "outputs": [
    {
     "data": {
      "text/plain": [
       "\n",
       "Call:\n",
       "svm(formula = Attrition ~ ., data = train, type = \"C-classification\", \n",
       "    gamma = 0.001668101, cost = 35.93814, cross = 3, probability = TRUE)\n",
       "\n",
       "\n",
       "Parameters:\n",
       "   SVM-Type:  C-classification \n",
       " SVM-Kernel:  radial \n",
       "       cost:  35.93814 \n",
       "      gamma:  0.001668101 \n",
       "\n",
       "Number of Support Vectors:  342\n"
      ]
     },
     "metadata": {},
     "output_type": "display_data"
    }
   ],
   "source": [
    "train$Attrition<-train_Y\n",
    "\n",
    "# Training a SVM \n",
    "svm_model<-svm(Attrition~.,                #set model formula\n",
    "                type=\"C-classification\",   #set classification machine\n",
    "                gamma=0.001668101,         #set gamma parameter\n",
    "                cost=35.93814,             #set cost parameter\n",
    "                data=train,\n",
    "                cross=3,                   #3-fold cross validation\n",
    "                probability = TRUE        #allow for probability prediction\n",
    ")\n",
    "\n",
    "# Predicting the results using testing dataset\n",
    "# Obtain the predicted class 0/1\n",
    "svm_model.predict<-predict(svm_model, test, probability=TRUE) \n",
    "\n",
    "# Obtain the predicted probability for class 0/1\n",
    "svm_model.prob <-attr(svm_model.predict,\"probabilities\") \n",
    "svm_model"
   ]
  },
  {
   "cell_type": "markdown",
   "metadata": {},
   "source": [
    "- The SVM model object is a list presenting basic information about the parameters, number of support vectors, etc.\n",
    "- The number of support vectors depends on how much slack we allow when training the model.\n",
    "- If we allow a large amount of flexibility, we will have a large number of support vectors."
   ]
  },
  {
   "cell_type": "markdown",
   "metadata": {},
   "source": [
    "#### Logistic regression model"
   ]
  },
  {
   "cell_type": "markdown",
   "metadata": {},
   "source": [
    "- The third model we fit is a logistic regression model.\n",
    "- The logit function always generates a predicted value between 0 and 1 that can be interpreted as  a probability."
   ]
  },
  {
   "cell_type": "code",
   "execution_count": 15,
   "metadata": {},
   "outputs": [
    {
     "data": {
      "text/html": [
       "<dl class=dl-horizontal>\n",
       "\t<dt>(Intercept)</dt>\n",
       "\t\t<dd>-0.827288161692881</dd>\n",
       "\t<dt>ï..Age</dt>\n",
       "\t\t<dd>-0.0286819686387426</dd>\n",
       "\t<dt>BusinessTravel</dt>\n",
       "\t\t<dd>0.0673277557452772</dd>\n",
       "\t<dt>DailyRate</dt>\n",
       "\t\t<dd>-0.000355276763135627</dd>\n",
       "\t<dt>Department</dt>\n",
       "\t\t<dd>0.5465854071469</dd>\n",
       "\t<dt>DistanceFromHome</dt>\n",
       "\t\t<dd>0.0428248711729589</dd>\n",
       "\t<dt>Education</dt>\n",
       "\t\t<dd>0.0184123227734274</dd>\n",
       "\t<dt>EducationField</dt>\n",
       "\t\t<dd>0.0982406581429228</dd>\n",
       "\t<dt>EnvironmentSatisfaction</dt>\n",
       "\t\t<dd>-0.4793673153437</dd>\n",
       "\t<dt>Gender</dt>\n",
       "\t\t<dd>0.453528083974373</dd>\n",
       "\t<dt>HourlyRate</dt>\n",
       "\t\t<dd>-3.2782623359546e-05</dd>\n",
       "\t<dt>JobInvolvement</dt>\n",
       "\t\t<dd>-0.422054719486064</dd>\n",
       "\t<dt>JobLevel</dt>\n",
       "\t\t<dd>-0.660050426484862</dd>\n",
       "\t<dt>JobRole</dt>\n",
       "\t\t<dd>-0.0673679377344303</dd>\n",
       "\t<dt>JobSatisfaction</dt>\n",
       "\t\t<dd>-0.348258355894399</dd>\n",
       "\t<dt>MaritalStatus</dt>\n",
       "\t\t<dd>0.605934305903292</dd>\n",
       "\t<dt>MonthlyIncome</dt>\n",
       "\t\t<dd>3.64974698092801e-06</dd>\n",
       "\t<dt>MonthlyRate</dt>\n",
       "\t\t<dd>7.65330733614546e-06</dd>\n",
       "\t<dt>NumCompaniesWorked</dt>\n",
       "\t\t<dd>0.182384048543555</dd>\n",
       "\t<dt>OverTime</dt>\n",
       "\t\t<dd>1.86482747651494</dd>\n",
       "\t<dt>PercentSalaryHike</dt>\n",
       "\t\t<dd>-0.040752850374947</dd>\n",
       "\t<dt>PerformanceRating</dt>\n",
       "\t\t<dd>0.173543381259428</dd>\n",
       "\t<dt>RelationshipSatisfaction</dt>\n",
       "\t\t<dd>-0.214642525060629</dd>\n",
       "\t<dt>StockOptionLevel</dt>\n",
       "\t\t<dd>-0.161877211572893</dd>\n",
       "\t<dt>TotalWorkingYears</dt>\n",
       "\t\t<dd>-0.0442754143363561</dd>\n",
       "\t<dt>TrainingTimesLastYear</dt>\n",
       "\t\t<dd>-0.186921605217246</dd>\n",
       "\t<dt>WorkLifeBalance</dt>\n",
       "\t\t<dd>-0.181787960395442</dd>\n",
       "\t<dt>YearsAtCompany</dt>\n",
       "\t\t<dd>0.144292373476191</dd>\n",
       "\t<dt>YearsInCurrentRole</dt>\n",
       "\t\t<dd>-0.193059006917863</dd>\n",
       "\t<dt>YearsSinceLastPromotion</dt>\n",
       "\t\t<dd>0.158787198831644</dd>\n",
       "\t<dt>YearsWithCurrManager</dt>\n",
       "\t\t<dd>-0.147799807101887</dd>\n",
       "</dl>\n"
      ],
      "text/latex": [
       "\\begin{description*}\n",
       "\\item[(Intercept)] -0.827288161692881\n",
       "\\item[ï..Age] -0.0286819686387426\n",
       "\\item[BusinessTravel] 0.0673277557452772\n",
       "\\item[DailyRate] -0.000355276763135627\n",
       "\\item[Department] 0.5465854071469\n",
       "\\item[DistanceFromHome] 0.0428248711729589\n",
       "\\item[Education] 0.0184123227734274\n",
       "\\item[EducationField] 0.0982406581429228\n",
       "\\item[EnvironmentSatisfaction] -0.4793673153437\n",
       "\\item[Gender] 0.453528083974373\n",
       "\\item[HourlyRate] -3.2782623359546e-05\n",
       "\\item[JobInvolvement] -0.422054719486064\n",
       "\\item[JobLevel] -0.660050426484862\n",
       "\\item[JobRole] -0.0673679377344303\n",
       "\\item[JobSatisfaction] -0.348258355894399\n",
       "\\item[MaritalStatus] 0.605934305903292\n",
       "\\item[MonthlyIncome] 3.64974698092801e-06\n",
       "\\item[MonthlyRate] 7.65330733614546e-06\n",
       "\\item[NumCompaniesWorked] 0.182384048543555\n",
       "\\item[OverTime] 1.86482747651494\n",
       "\\item[PercentSalaryHike] -0.040752850374947\n",
       "\\item[PerformanceRating] 0.173543381259428\n",
       "\\item[RelationshipSatisfaction] -0.214642525060629\n",
       "\\item[StockOptionLevel] -0.161877211572893\n",
       "\\item[TotalWorkingYears] -0.0442754143363561\n",
       "\\item[TrainingTimesLastYear] -0.186921605217246\n",
       "\\item[WorkLifeBalance] -0.181787960395442\n",
       "\\item[YearsAtCompany] 0.144292373476191\n",
       "\\item[YearsInCurrentRole] -0.193059006917863\n",
       "\\item[YearsSinceLastPromotion] 0.158787198831644\n",
       "\\item[YearsWithCurrManager] -0.147799807101887\n",
       "\\end{description*}\n"
      ],
      "text/markdown": [
       "(Intercept)\n",
       ":   -0.827288161692881ï..Age\n",
       ":   -0.0286819686387426BusinessTravel\n",
       ":   0.0673277557452772DailyRate\n",
       ":   -0.000355276763135627Department\n",
       ":   0.5465854071469DistanceFromHome\n",
       ":   0.0428248711729589Education\n",
       ":   0.0184123227734274EducationField\n",
       ":   0.0982406581429228EnvironmentSatisfaction\n",
       ":   -0.4793673153437Gender\n",
       ":   0.453528083974373HourlyRate\n",
       ":   -3.2782623359546e-05JobInvolvement\n",
       ":   -0.422054719486064JobLevel\n",
       ":   -0.660050426484862JobRole\n",
       ":   -0.0673679377344303JobSatisfaction\n",
       ":   -0.348258355894399MaritalStatus\n",
       ":   0.605934305903292MonthlyIncome\n",
       ":   3.64974698092801e-06MonthlyRate\n",
       ":   7.65330733614546e-06NumCompaniesWorked\n",
       ":   0.182384048543555OverTime\n",
       ":   1.86482747651494PercentSalaryHike\n",
       ":   -0.040752850374947PerformanceRating\n",
       ":   0.173543381259428RelationshipSatisfaction\n",
       ":   -0.214642525060629StockOptionLevel\n",
       ":   -0.161877211572893TotalWorkingYears\n",
       ":   -0.0442754143363561TrainingTimesLastYear\n",
       ":   -0.186921605217246WorkLifeBalance\n",
       ":   -0.181787960395442YearsAtCompany\n",
       ":   0.144292373476191YearsInCurrentRole\n",
       ":   -0.193059006917863YearsSinceLastPromotion\n",
       ":   0.158787198831644YearsWithCurrManager\n",
       ":   -0.147799807101887\n",
       "\n"
      ],
      "text/plain": [
       "             (Intercept)                   ï..Age           BusinessTravel \n",
       "           -8.272882e-01            -2.868197e-02             6.732776e-02 \n",
       "               DailyRate               Department         DistanceFromHome \n",
       "           -3.552768e-04             5.465854e-01             4.282487e-02 \n",
       "               Education           EducationField  EnvironmentSatisfaction \n",
       "            1.841232e-02             9.824066e-02            -4.793673e-01 \n",
       "                  Gender               HourlyRate           JobInvolvement \n",
       "            4.535281e-01            -3.278262e-05            -4.220547e-01 \n",
       "                JobLevel                  JobRole          JobSatisfaction \n",
       "           -6.600504e-01            -6.736794e-02            -3.482584e-01 \n",
       "           MaritalStatus            MonthlyIncome              MonthlyRate \n",
       "            6.059343e-01             3.649747e-06             7.653307e-06 \n",
       "      NumCompaniesWorked                 OverTime        PercentSalaryHike \n",
       "            1.823840e-01             1.864827e+00            -4.075285e-02 \n",
       "       PerformanceRating RelationshipSatisfaction         StockOptionLevel \n",
       "            1.735434e-01            -2.146425e-01            -1.618772e-01 \n",
       "       TotalWorkingYears    TrainingTimesLastYear          WorkLifeBalance \n",
       "           -4.427541e-02            -1.869216e-01            -1.817880e-01 \n",
       "          YearsAtCompany       YearsInCurrentRole  YearsSinceLastPromotion \n",
       "            1.442924e-01            -1.930590e-01             1.587872e-01 \n",
       "    YearsWithCurrManager \n",
       "           -1.477998e-01 "
      ]
     },
     "metadata": {},
     "output_type": "display_data"
    }
   ],
   "source": [
    "# Training a logistic regression model\n",
    "LR_model <- glm(Attrition ~.,family=binomial(link='logit'),data=train)\n",
    "\n",
    "# Predicting the results using testing dataset\n",
    "LR_model.predict <- predict(LR_model, test, type = \"response\")\n",
    "coef(LR_model)"
   ]
  },
  {
   "cell_type": "markdown",
   "metadata": {},
   "source": [
    "## R-Shiny Employee Attrition Modeling Application"
   ]
  },
  {
   "cell_type": "code",
   "execution_count": 25,
   "metadata": {},
   "outputs": [],
   "source": [
    "# load packages\n",
    "library(\"ggplot2\"); \n",
    "library(\"corrplot\"); \n",
    "library(\"ROCR\"); \n",
    "library(\"caret\")"
   ]
  },
  {
   "cell_type": "markdown",
   "metadata": {},
   "source": [
    "### Fine-Tuning the Results\n",
    "- Each algorithm gives a confidence score(probability) between 0 and 1 for each employee, indicating that these individuals are somewhere between 0% and 100% likely to attrite, respectively.\n",
    "- By setting the confidence score threshold, above which we predict an employee to leave, we end up with a control on the precision and recall statistics.\n",
    "- The cutoff can be adjusted in real-time, in the RShiny application, to optimize the model based on the needs of the business."
   ]
  },
  {
   "cell_type": "markdown",
   "metadata": {},
   "source": [
    "#### ROC Curve\n",
    "- A receiver operating characteristic (ROC) curve is the result of plotting the true positive rate against the false positive rate.\n",
    "- The closer the ROC curve is to the top left corner, the greater the accuracy of the test."
   ]
  },
  {
   "cell_type": "code",
   "execution_count": 17,
   "metadata": {},
   "outputs": [],
   "source": [
    "# Create a prediction object using previously saved results\n",
    "ROCRpred_xgb <- prediction(pred.xgb, test_Y)\n",
    "ROCRpred_svm <- prediction(svm_model.prob[,2], test_Y)\n",
    "ROCRpred_lr <- prediction(LR_model.predict, test_Y)\n",
    "\n",
    "#XGBoost roc data\n",
    "perf_xgb <- performance(ROCRpred_xgb, \"tpr\", \"fpr\")                  \n",
    "roc_xgb.data <- data.frame(fpr=unlist(perf_xgb@x.values),\n",
    "                tpr=unlist(perf_xgb@y.values), model=\"XGBoost\")\n",
    "                    \n",
    "#SVM roc data\n",
    "perf_svm <- performance(ROCRpred_svm, 'tpr','fpr')                  \n",
    "roc_svm.data <- data.frame(fpr=unlist(perf_svm@x.values),\n",
    "                tpr=unlist(perf_svm@y.values), model=\"SVM\")\n",
    "                    \n",
    "#Logistic Regression roc data\n",
    "perf_lr <- performance(ROCRpred_lr, 'tpr','fpr')                    \n",
    "roc_lr.data <- data.frame(fpr=unlist(perf_lr@x.values),\n",
    "                          tpr=unlist(perf_lr@y.values), model=\"LR\")"
   ]
  },
  {
   "cell_type": "code",
   "execution_count": 18,
   "metadata": {},
   "outputs": [
    {
     "data": {},
     "metadata": {},
     "output_type": "display_data"
    },
    {
     "data": {
      "image/png": "[encoded data removed]",
      "text/plain": [
       "plot without title"
      ]
     },
     "metadata": {},
     "output_type": "display_data"
    }
   ],
   "source": [
    "# Plotting ROC Curve\n",
    "\n",
    "# Define colors for roc plot\n",
    "cols <- c(\"XGBoost\" = \"#3DB7E4\", \"SVM\" = \"#FF8849\", \"Logistic Regression\" = \"#69BE28\")\n",
    "\n",
    "# Create roc plot\n",
    "ggplot() + \n",
    "geom_line(data = roc_xgb.data, aes(x=fpr, y=tpr, colour = \"XGBoost\")) + #set XGBoost roc curve\n",
    "geom_line(data = roc_svm.data, aes(x = fpr, y=tpr, colour = \"SVM\")) + #set SVM roc curve\n",
    "geom_line(data = roc_lr.data, aes(x = fpr, y=tpr, colour = \"Logistic Regression\")) + \n",
    "\n",
    "#set LR roc curve\n",
    "geom_vline(xintercept = 0.5, color = \"red\", linetype=2) + theme_bw() + #set themes\n",
    "scale_colour_manual(name = \"Models\", values = cols) + \n",
    "xlab(\"False Positive Rate\") +\n",
    "ylab(\"True Positive Rate\") +\n",
    "theme(legend.position = c(0.8, 0.2), \n",
    "legend.text = element_text(size = 15), \n",
    "legend.title = element_text(size = 15))"
   ]
  },
  {
   "cell_type": "markdown",
   "metadata": {},
   "source": [
    "- The plot above indicates that the performance of the three different machine learning models are roughly the same. Slight variations show that if the false positive rate is above 0.6 then SVM and logistic regression seem marginally better than the XGBoost model.\n",
    "\n",
    "- A slider is added to adjust the vertical red line in the Shiny application. The slider allows the user to change the operation point of the algorithm by setting the false positive rate. The changes made to this cut-off are reflected in the confusion matrices."
   ]
  },
  {
   "cell_type": "markdown",
   "metadata": {},
   "source": [
    "#### Confusion Matrix\n",
    "Here is the logic and the code for how to draw the confusion matrix:\n",
    "\n",
    "1. Obtain the auc, fpr and tpr using prediction function\n",
    "2. Define get_cutoff_point function to obtain the cutoff probability given a fixed fpr. Any predicted probability that is greater than the cutoff will be classified as attrition and vise versa.\n",
    "3. Define draw_confusion_matrix function to draw a confusion matrix plot given calculated confusion table, auc and chosen color.\n",
    "4. Take a look of three confusion matrices from three models and compare their auc, fpr,tpr and accuracy."
   ]
  },
  {
   "cell_type": "code",
   "execution_count": 19,
   "metadata": {
    "scrolled": false
   },
   "outputs": [],
   "source": [
    "# Define a function to obtain the cutoff probability\n",
    "# @perf is a S4 object gotten from @performance function\n",
    "# @threshold is the targeted fpr\n",
    "# In the ShinyApp, users can adjust the threshold by themselves and\n",
    "# obtain different confusion matrix accordingly. Here, we always set\n",
    "# threshold = 0.5 just for illustration.\n",
    "get_cutoff_point <- function(perf, threshold)\n",
    "  {\n",
    "    cutoffs <- data.frame( fpr=perf@x.values[[1]], tpr=perf@y.values[[1]]) #cut=perf@alpha.values[[1]],\n",
    "    cutoffs <- cutoffs[order(cutoffs$tpr, decreasing=TRUE),]\n",
    "    cutoffs <- subset(cutoffs, fpr <= threshold)\n",
    "    if(nrow(cutoffs) == 0){ return(1.0)}\n",
    "    else return(cutoffs[1, 1])\n",
    "}\n",
    "\n",
    "# Define a function to draw a confusion matrix plot\n",
    "# @cm is a confusion matrix obtained from @confusionMatrix function\n",
    "# @auc is the auc value obtained from @performance function\n",
    "# @color is the kind of color you want for true positive and true negative areas\n",
    "# In this function, we also add in accuracy information which calculates the\n",
    "# overall performance of model\n",
    "draw_confusion_matrix <- function(cm, auc, color) {\n",
    "\n",
    "  layout(matrix(c(1,1,2)))\n",
    "  par(mar=c(0,0.1,1,0.1))\n",
    "  plot(c(125, 345), c(300, 450), type = \"n\", xlab=\"\", ylab=\"\", xaxt='n', yaxt='n')\n",
    "\n",
    "  # create the matrix \n",
    "  rect(150, 430, 240, 370, col=color)\n",
    "  text(195, 435, '0', cex=1.2)\n",
    "  rect(250, 430, 340, 370, col='white')\n",
    "  text(295, 435, '1', cex=1.2)\n",
    "  text(125, 370, 'Predicted', cex=1.3, srt=90, font=2)\n",
    "  text(245, 450, 'Actual', cex=1.3, font=2)\n",
    "  rect(150, 305, 240, 365, col='white')\n",
    "  rect(250, 305, 340, 365, col=color)\n",
    "  text(140, 400, '0', cex=1.2, srt=90)\n",
    "  text(140, 335, '1', cex=1.2, srt=90)\n",
    "\n",
    "  # add in the cm results \n",
    "  res <- as.numeric(cm$table)\n",
    "  text(195, 400, res[1], cex=1.6, font=2, col='white')\n",
    "  text(195, 335, res[2], cex=1.6, font=2, col='black')\n",
    "  text(295, 400, res[3], cex=1.6, font=2, col='black')\n",
    "  text(295, 335, res[4], cex=1.6, font=2, col='white')\n",
    "\n",
    "  # add in the specifics \n",
    "  plot(c(0, 100), c(0, 50), type = \"n\", xlab=\"\", ylab=\"\", main = \"\", xaxt='n', yaxt='n')\n",
    "\n",
    "  # add in the accuracy information \n",
    "\n",
    "  text(25, 30, \"AUC\", cex=1.8, font=2)\n",
    "  text(25, 20, round(as.numeric(auc), 3), cex=1.8)\n",
    "  text(75, 30, names(cm$overall[1]), cex=1.8, font=2)\n",
    "  text(75, 20, round(as.numeric(cm$overall[1]), 3), cex=1.8)\n",
    "}"
   ]
  },
  {
   "cell_type": "code",
   "execution_count": 20,
   "metadata": {},
   "outputs": [
    {
     "data": {
      "image/png": "[encoded data removed]",
      "text/plain": [
       "Plot with title \"\""
      ]
     },
     "metadata": {},
     "output_type": "display_data"
    }
   ],
   "source": [
    "# draw XGBoosting confusion matrix\n",
    "auc_xgb <- performance(ROCRpred_xgb, measure = \"auc\")  #obtain auc from @performance\n",
    "perf_xgb <- performance(ROCRpred_xgb, \"prec\", \"cutoff\")  #obtain tpr and fpr from @performance                   \n",
    "cut <- get_cutoff_point(perf_xgb, 0.7) #obtain the cutoff probability\n",
    "pred_values_xgb <- ifelse(pred.xgb > cut,1,0) #classify using cutoff probability\n",
    "cm_xgb <- confusionMatrix(data = factor(pred_values_xgb), reference = factor(test_Y)) #obtain confusion matrix\n",
    "draw_confusion_matrix(cm_xgb, auc_xgb@y.values, \"#3DB7E4\")  #Draw confusion matrix plot"
   ]
  },
  {
   "cell_type": "code",
   "execution_count": 21,
   "metadata": {},
   "outputs": [
    {
     "data": {
      "image/png": "[encoded data removed]",
      "text/plain": [
       "Plot with title \"\""
      ]
     },
     "metadata": {},
     "output_type": "display_data"
    }
   ],
   "source": [
    "# draw SVM confusion matrix\n",
    "auc_svm <- performance(ROCRpred_svm, measure = \"auc\")\n",
    "perf_svm <- performance(ROCRpred_svm, 'tpr','fpr')                  \n",
    "cut <- get_cutoff_point(perf_svm, 0.5)\n",
    "pred_values_svm <- ifelse(svm_model.prob[,2] > cut,1,0)\n",
    "cm_svm <- confusionMatrix(data = factor(pred_values_svm), reference = factor(test_Y))\n",
    "draw_confusion_matrix(cm_svm, auc_svm@y.values, \"#FF8849\")"
   ]
  },
  {
   "cell_type": "code",
   "execution_count": 22,
   "metadata": {},
   "outputs": [
    {
     "data": {
      "image/png": "[encoded data removed]",
      "text/plain": [
       "Plot with title \"\""
      ]
     },
     "metadata": {},
     "output_type": "display_data"
    }
   ],
   "source": [
    "# draw Logistic regression confusion matrix\n",
    "auc_lr <- performance(ROCRpred_lr, measure = \"auc\")\n",
    "perf_lr <- performance(ROCRpred_lr, 'tpr','fpr')                    \n",
    "cut <- get_cutoff_point(perf_lr, 0.5)\n",
    "pred_values_lr <- ifelse(LR_model.predict > cut,1,0)\n",
    "cm_lr <- confusionMatrix(data = factor(pred_values_lr), reference = factor(test_Y))\n",
    "draw_confusion_matrix(cm_lr, auc_lr@y.values, \"#69BE28\")"
   ]
  },
  {
   "cell_type": "markdown",
   "metadata": {},
   "source": [
    "#### Precision and Recall\n",
    "- Another way to visualize this result is to look at precision and recall.\n",
    "- By controlling the cutoff, we can compare precision and recall values among different models in this plot."
   ]
  },
  {
   "cell_type": "code",
   "execution_count": 23,
   "metadata": {},
   "outputs": [
    {
     "name": "stderr",
     "output_type": "stream",
     "text": [
      "Warning message:\n",
      "\"Removed 1 rows containing missing values (geom_path).\"Warning message:\n",
      "\"Removed 1 rows containing missing values (geom_path).\"Warning message:\n",
      "\"Removed 1 rows containing missing values (geom_path).\""
     ]
    },
    {
     "data": {},
     "metadata": {},
     "output_type": "display_data"
    },
    {
     "data": {
      "image/png": "[encoded data removed]",
      "text/plain": [
       "plot without title"
      ]
     },
     "metadata": {},
     "output_type": "display_data"
    }
   ],
   "source": [
    "#Create precision plot\n",
    "\n",
    "#XGBoost\n",
    "perf_xgb <- performance(ROCRpred_xgb,'prec', 'cutoff') #use 'prec' and 'cutoff' as measurements                 \n",
    "xgb.data <- data.frame(x=unlist(perf_xgb@x.values), y=unlist(perf_xgb@y.values),\n",
    "            model=\"XGBoost\")\n",
    "                    \n",
    "#SVM\n",
    "perf_svm <- performance(ROCRpred_svm,'prec', 'cutoff')                  \n",
    "svm.data <- data.frame(x=unlist(perf_svm@x.values), y=unlist(perf_svm@y.values), \n",
    "            model=\"SVM\")\n",
    "                    \n",
    "#Logistic Regression\n",
    "perf_lr <- performance(ROCRpred_lr,'prec', 'cutoff')                    \n",
    "lr.data <- data.frame(x=unlist(perf_lr@x.values), y=unlist(perf_lr@y.values),\n",
    "           model=\"LR\")\n",
    "                    \n",
    "\n",
    "cols <- c(\"XGBoost\" = \"#3DB7E4\", \"SVM\" = \"#FF8849\", \"Logistic Regression\" = \"#69BE28\")\n",
    "                    \n",
    "ggplot() +\n",
    "geom_line(data = xgb.data, aes(x=x, y=y, colour = \"XGBoost\")) + \n",
    "geom_line(data = svm.data, aes(x =x, y=y, colour = \"SVM\")) + \n",
    "geom_line(data = lr.data, aes(x =x, y=y, colour = \"Logistic Regression\")) + \n",
    "scale_colour_manual(name = \"Models\", values = cols) + \n",
    "xlab(\"Cutoff\") +\n",
    "ylab(\"Precision\") +\n",
    "geom_vline(xintercept = 0.5, color = \"red\", linetype=2) + theme_bw() +\n",
    "theme(legend.position = c(0.8, 0.2), \n",
    "legend.text = element_text(size = 15), \n",
    "legend.title = element_text(size = 15))"
   ]
  },
  {
   "cell_type": "code",
   "execution_count": 24,
   "metadata": {},
   "outputs": [
    {
     "data": {},
     "metadata": {},
     "output_type": "display_data"
    },
    {
     "data": {
      "image/png": "[encoded data removed]",
      "text/plain": [
       "plot without title"
      ]
     },
     "metadata": {},
     "output_type": "display_data"
    }
   ],
   "source": [
    "#Create recall plot\n",
    "\n",
    "#XGBoost\n",
    "perf_xgb <- performance(ROCRpred_xgb,'rec', 'cutoff')                   \n",
    "xgb.data <- data.frame(x=unlist(perf_xgb@x.values), y=unlist(perf_xgb@y.values), model=\"XGBoost\")\n",
    "                    \n",
    "#SVM\n",
    "perf_svm <- performance(ROCRpred_svm,'rec', 'cutoff')                   \n",
    "svm.data <- data.frame(x=unlist(perf_svm@x.values), y=unlist(perf_svm@y.values), model=\"SVM\")\n",
    "                    \n",
    "#Logistic Regression\n",
    "perf_lr <- performance(ROCRpred_lr,'rec', 'cutoff')                 \n",
    "lr.data <- data.frame(x=unlist(perf_lr@x.values), y=unlist(perf_lr@y.values), model=\"LR\")\n",
    "\n",
    "cols <- c(\"XGBoost\" = \"#3DB7E4\", \"SVM\" = \"#FF8849\", \"Logistic Regression\" = \"#69BE28\")\n",
    "\n",
    "ggplot() +\n",
    "geom_line(data = xgb.data, aes(x=x, y=y, colour = \"XGBoost\")) + \n",
    "geom_line(data = svm.data, aes(x=x, y=y, colour = \"SVM\")) + \n",
    "geom_line(data = lr.data, aes(x=x, y=y, colour = \"Logistic Regression\")) + \n",
    "scale_colour_manual(name = \"Models\", values = cols) + \n",
    "xlab(\"Cutoff\") +\n",
    "ylab(\"Recall\") +\n",
    "geom_vline(xintercept = 0.5, color = \"red\", linetype=2) + theme_bw() +\n",
    "theme(legend.position = c(0.8, 0.8), \n",
    "legend.text = element_text(size = 15), \n",
    "legend.title = element_text(size = 15))"
   ]
  },
  {
   "cell_type": "markdown",
   "metadata": {},
   "source": [
    "- The above figures show the Precision and Recall curves for the three models and illustrate how the cut-off will affect the precision and recall.\n",
    "\n",
    "- Here, cutoff = 0.5 is used as a default in Shiny Application. The user can adjust the cutoff slider by themselves. As with the ROC curve, the confusion matrices for each algorithm are updated with changes to the slider location.\n",
    "\n",
    "- With these results, we can give the HR department a list of the employees that are the most likely to leave, as well as the confidence score returned by the model.  Further, the confidence score can be combined with any HR metrics, which themselves can be modeled algorithmically if need-be, to give an expected value lost per individual. "
   ]
  }
 ],
 "metadata": {
  "kernelspec": {
   "display_name": "R",
   "language": "R",
   "name": "ir"
  },
  "language_info": {
   "codemirror_mode": "r",
   "file_extension": ".r",
   "mimetype": "text/x-r-source",
   "name": "R",
   "pygments_lexer": "r",
   "version": "3.5.1"
  },
  "toc": {
   "base_numbering": 1,
   "nav_menu": {},
   "number_sections": true,
   "sideBar": true,
   "skip_h1_title": false,
   "title_cell": "Table of Contents",
   "title_sidebar": "Contents",
   "toc_cell": true,
   "toc_position": {},
   "toc_section_display": true,
   "toc_window_display": false
  },
  "varInspector": {
   "cols": {
    "lenName": 16,
    "lenType": 16,
    "lenVar": 40
   },
   "kernels_config": {
    "python": {
     "delete_cmd_postfix": "",
     "delete_cmd_prefix": "del ",
     "library": "var_list.py",
     "varRefreshCmd": "print(var_dic_list())"
    },
    "r": {
     "delete_cmd_postfix": ") ",
     "delete_cmd_prefix": "rm(",
     "library": "var_list.r",
     "varRefreshCmd": "cat(var_dic_list()) "
    }
   },
   "types_to_exclude": [
    "module",
    "function",
    "builtin_function_or_method",
    "instance",
    "_Feature"
   ],
   "window_display": false
  }
 },
 "nbformat": 4,
 "nbformat_minor": 2
}
